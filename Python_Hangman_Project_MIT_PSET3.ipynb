{
 "cells": [
  {
   "cell_type": "code",
   "execution_count": 1,
   "metadata": {},
   "outputs": [],
   "source": [
    "def isWordGuessed(secretWord, lettersGuessed):\n",
    "    '''\n",
    "    secretWord: string, the word the user is guessing\n",
    "    lettersGuessed: list, what letters have been guessed so far\n",
    "    returns: boolean, True if all the letters of secretWord are in lettersGuessed;\n",
    "      False otherwise\n",
    "    '''\n",
    "    filtered=[]\n",
    "    for i in lettersGuessed:\n",
    "        if i in secretWord:\n",
    "            filtered=filtered +[i]\n",
    "    if len(filtered)==len(secretWord):\n",
    "        return True\n",
    "    else:\n",
    "        return False"
   ]
  },
  {
   "cell_type": "code",
   "execution_count": 2,
   "metadata": {},
   "outputs": [],
   "source": [
    "def getGuessedWord(secretWord, lettersGuessed):\n",
    "    '''\n",
    "    secretWord: string, the word the user is guessing\n",
    "    lettersGuessed: list, what letters have been guessed so far\n",
    "    returns: string, comprised of letters and underscores that represents\n",
    "      what letters in secretWord have been guessed so far.\n",
    "    '''\n",
    "    filtered=()\n",
    "    sepration=''\n",
    "    for i in range(len(secretWord)):\n",
    "        if secretWord[i] not in lettersGuessed:\n",
    "            secretWord=secretWord.replace(secretWord[i],\"_\")\n",
    "    return secretWord   \n",
    "\n"
   ]
  },
  {
   "cell_type": "code",
   "execution_count": 3,
   "metadata": {},
   "outputs": [],
   "source": [
    "def getAvailableLetters(lettersGuessed):\n",
    "    '''\n",
    "    lettersGuessed: list, what letters have been guessed so far\n",
    "    returns: string, comprised of letters that represents what letters have not\n",
    "      yet been guessed.\n",
    "    '''\n",
    "    result=\"\"\n",
    "    import string\n",
    "    m=string.ascii_lowercase\n",
    "    n=list(m)\n",
    "    for i in n[:]:\n",
    "        if i in list(lettersGuessed):\n",
    "            n.remove(i)\n",
    "    return result.join(n) \n"
   ]
  },
  {
   "cell_type": "code",
   "execution_count": 4,
   "metadata": {},
   "outputs": [],
   "source": [
    "def hangman(secretWord):\n",
    "    print('Welcome to the game, Hangman!')\n",
    "    print('I am thinking of a word that is', len(secretWord), \"letters long.\")\n",
    "    mistakesMade = 0\n",
    "    lettersGuessed = []\n",
    "\n",
    "    while 8 - mistakesMade > 0:\n",
    "        if isWordGuessed(secretWord, lettersGuessed) == True:\n",
    "            print('------------')\n",
    "            print('Congratulations, you won!')\n",
    "            break\n",
    "        else:\n",
    "            print('------------')\n",
    "            print('You have', 8 - mistakesMade, 'guesses left.')\n",
    "            print('Available letters:', getAvailableLetters(lettersGuessed))\n",
    "            guess = str(input('Please guess a letter:')).lower()\n",
    "            if guess in secretWord and guess not in lettersGuessed:\n",
    "                lettersGuessed.append(guess)\n",
    "                print('Good guess:', getGuessedWord(secretWord, lettersGuessed))\n",
    "            elif guess in lettersGuessed:\n",
    "                print(\"Oops! You've already guessed that letter:\", getGuessedWord(secretWord, lettersGuessed))\n",
    "            elif guess not in secretWord:\n",
    "                print(\"Oops! That letter is not in my word:\", getGuessedWord(secretWord, lettersGuessed))\n",
    "                lettersGuessed.append(guess)\n",
    "                mistakesMade += 1\n",
    "            if 8 - mistakesMade == 0:\n",
    "                 print('------------')\n",
    "                 print('Sorry, you ran out of guesses. The word was', secretWord)\n",
    "                 break\n",
    "            else:\n",
    "                 continue"
   ]
  },
  {
   "cell_type": "code",
   "execution_count": null,
   "metadata": {},
   "outputs": [],
   "source": [
    "hangman(\"aeroplane\")"
   ]
  },
  {
   "cell_type": "code",
   "execution_count": null,
   "metadata": {},
   "outputs": [],
   "source": []
  }
 ],
 "metadata": {
  "kernelspec": {
   "display_name": "Python 3",
   "language": "python",
   "name": "python3"
  },
  "language_info": {
   "codemirror_mode": {
    "name": "ipython",
    "version": 3
   },
   "file_extension": ".py",
   "mimetype": "text/x-python",
   "name": "python",
   "nbconvert_exporter": "python",
   "pygments_lexer": "ipython3",
   "version": "3.7.4"
  }
 },
 "nbformat": 4,
 "nbformat_minor": 2
}
